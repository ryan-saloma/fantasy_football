{
 "cells": [
  {
   "cell_type": "code",
   "execution_count": null,
   "metadata": {},
   "outputs": [],
   "source": [
    "from dash import Dash, html, dcc, dash_table, Input, Output, State, callback\n",
    "import pandas as pd\n",
    "import plotly.express as px\n",
    "\n",
    "app = Dash(__name__)\n",
    "default_table = pd.read_csv('../data/cleaned_fantasy_1970.csv')\n",
    "positions = list(default_table['position'].unique())\n",
    "positions.append('All')\n",
    "app.layout = [html.Title('Fantasy Football Dashboard'),\n",
    "              html.H1('Fantasy Football Dashboard', style={'textAlign': 'center', 'color': 'white'}),\n",
    "              html.Div(children=[\n",
    "                  dcc.Dropdown(id='year-dropdown', options=[{'label': i, 'value': i} for i in range(1970, 2024, 1)], value=1970),\n",
    "                  dcc.Dropdown(id='position-dropdown', options=[{'label': i, 'value': i} for i in positions], value='All'), \n",
    "                  dcc.Dropdown(id='columns', options=[{'label': i, 'value': i} for i in default_table.columns], value=['player', 'position', 'ppr_points', 'overall_rank'], multi=True)\n",
    "              ]),\n",
    "              html.Div(children=[]),\n",
    "              html.Div(children=[\n",
    "                  dash_table.DataTable(id='fantasy-football-table',data=default_table.to_dict('records'), page_size=10, style_cell={'textAlign': 'center'})\n",
    "              ]),\n",
    "              html.Div(children=[\n",
    "                dcc.Graph(id='fantasy-football-graph',figure={})])\n",
    "            ]\n",
    "\n",
    "@callback(\n",
    "    Output('fantasy-football-graph', 'figure'),\n",
    "    Input('year-dropdown', 'value')\n",
    ")\n",
    "def update_graph(selected_year):\n",
    "    df = pd.read_csv(f'../data/cleaned_fantasy_{selected_year}.csv')\n",
    "    df100 = df.sort_values('ppr_points',ascending=False).head(100)\n",
    "    color_dict = {'QB': 'blue', 'RB': 'green', 'WR': 'red', 'TE': 'purple'}\n",
    "    fig = px.pie(df100, df100['position'], title = f'Top 100 Fantasy Football Players by Position in {selected_year} (PPR Points)', \n",
    "                 color='position', color_discrete_map=color_dict)\n",
    "    return fig\n",
    "\n",
    "@callback(\n",
    "    Output('fantasy-football-table', 'data'),\n",
    "    Input('position-dropdown', 'value'),\n",
    "    Input('year-dropdown', 'value'),\n",
    "    Input('columns', 'value')\n",
    ")\n",
    "def update_table(selected_position, selected_year, columns):\n",
    "    df = pd.read_csv(f'../data/cleaned_fantasy_{selected_year}.csv')\n",
    "    df = df.filter(columns).sort_values('ppr_points',ascending=False)\n",
    "    if selected_position == 'All':\n",
    "        return df.to_dict('records')\n",
    "    else:\n",
    "        return df[df['position'] == selected_position].to_dict('records')\n",
    "\n",
    "if __name__ == '__main__':\n",
    "    app.run(debug=True)"
   ]
  },
  {
   "cell_type": "markdown",
   "metadata": {},
   "source": [
    "Ideas:\n",
    "1. Add scoring format dropdown\n",
    "2. Chart the percentage of Top 100 players by position over time\n",
    "3. Create custom chart type that displays where on the field players threw/caught the ball, encode catch percentage as size or gradient"
   ]
  }
 ],
 "metadata": {
  "kernelspec": {
   "display_name": ".venv",
   "language": "python",
   "name": "python3"
  },
  "language_info": {
   "codemirror_mode": {
    "name": "ipython",
    "version": 3
   },
   "file_extension": ".py",
   "mimetype": "text/x-python",
   "name": "python",
   "nbconvert_exporter": "python",
   "pygments_lexer": "ipython3",
   "version": "3.12.4"
  }
 },
 "nbformat": 4,
 "nbformat_minor": 2
}
