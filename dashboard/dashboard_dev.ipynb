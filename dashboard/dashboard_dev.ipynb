{
 "cells": [
  {
   "cell_type": "code",
   "execution_count": null,
   "metadata": {},
   "outputs": [],
   "source": [
    "from dash import Dash, html, dcc\n",
    "import pandas as pd\n",
    "import plotly.express as px\n",
    "\n",
    "app = Dash(__name__)\n",
    "df = pd.read_csv('../data/cleaned_fantasy_1970.csv')\n",
    "df100 = df.sort_values('ppr_points', ascending=False).head(100)\n",
    "fig = px.pie(df100, df100['position'], title = 'Top 100 Fantasy Football Players by Position')\n",
    "app.layout = [html.Title('Fantasy Football Dashboard'),\n",
    "              html.Div(children=[\n",
    "                html.H1('Fantasy Fantasy Football Dashboard'),\n",
    "                dcc.Graph(id='fantasy-football-graph',figure=fig)])\n",
    "            ]\n",
    "\n",
    "if __name__ == '__main__':\n",
    "    app.run(debug=True)"
   ]
  }
 ],
 "metadata": {
  "kernelspec": {
   "display_name": ".venv",
   "language": "python",
   "name": "python3"
  },
  "language_info": {
   "codemirror_mode": {
    "name": "ipython",
    "version": 3
   },
   "file_extension": ".py",
   "mimetype": "text/x-python",
   "name": "python",
   "nbconvert_exporter": "python",
   "pygments_lexer": "ipython3",
   "version": "3.12.4"
  }
 },
 "nbformat": 4,
 "nbformat_minor": 2
}
