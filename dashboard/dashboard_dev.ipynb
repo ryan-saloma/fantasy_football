{
 "cells": [
  {
   "cell_type": "code",
   "execution_count": 18,
   "metadata": {},
   "outputs": [
    {
     "data": {
      "text/html": [
       "\n",
       "        <iframe\n",
       "            width=\"100%\"\n",
       "            height=\"650\"\n",
       "            src=\"http://127.0.0.1:8050/\"\n",
       "            frameborder=\"0\"\n",
       "            allowfullscreen\n",
       "            \n",
       "        ></iframe>\n",
       "        "
      ],
      "text/plain": [
       "<IPython.lib.display.IFrame at 0x122e51400>"
      ]
     },
     "metadata": {},
     "output_type": "display_data"
    }
   ],
   "source": [
    "from dash import Dash, html, dcc, dash_table, Input, Output, callback\n",
    "import pandas as pd\n",
    "import plotly.express as px\n",
    "\n",
    "app = Dash(__name__)\n",
    "default_table = pd.read_csv('../data/cleaned_fantasy_1970.csv')\n",
    "app.layout = [html.Title('Fantasy Football Dashboard'),\n",
    "              html.H1('Fantasy Football Dashboard', style={'textAlign': 'center', 'color': 'white'}),\n",
    "              html.Div(children=[\n",
    "                  dcc.Dropdown(id='year-dropdown', options=[{'label': i, 'value': i} for i in range(1970, 2024, 1)], value=1970),\n",
    "                  dcc.Dropdown(id='position-dropdown', options=[{'label': i, 'value': i} for i in default_table['position'].unique()], value='All')\n",
    "              ]),\n",
    "              html.Div(children=[dash_table.DataTable(id='fantasy-football-table',data=default_table.to_dict('records'), page_size=10)]),\n",
    "              html.Div(children=[\n",
    "                dcc.Graph(id='fantasy-football-graph',figure={})])\n",
    "            ]\n",
    "\n",
    "@callback(\n",
    "    Output('fantasy-football-graph', 'figure'),\n",
    "    Output('fantasy-football-table', 'data'),\n",
    "    Input('year-dropdown', 'value')\n",
    ")\n",
    "def update_table_and_graph(selected_year):\n",
    "    df = pd.read_csv(f'../data/cleaned_fantasy_{selected_year}.csv')\n",
    "    fig = px.pie(df, df['position'], title = f'Top 100 Fantasy Football Players by Position in {selected_year}')\n",
    "    return fig, df.to_dict('records')\n",
    "\n",
    "@callback(\n",
    "    Output('fantasy-football-table', 'data'),\n",
    "    Input('year-dropdown', 'value')\n",
    ")\n",
    "def update_table(selected_year, selected_position):\n",
    "    df = pd.read_csv(f'../data/cleaned_fantasy_{selected_year}.csv')\n",
    "    if selected_position == 'All':\n",
    "        return df.to_dict('records')\n",
    "    else:\n",
    "        return df[df['position'] == selected_position].to_dict('records')\n",
    "\n",
    "if __name__ == '__main__':\n",
    "    app.run(debug=True)"
   ]
  }
 ],
 "metadata": {
  "kernelspec": {
   "display_name": ".venv",
   "language": "python",
   "name": "python3"
  },
  "language_info": {
   "codemirror_mode": {
    "name": "ipython",
    "version": 3
   },
   "file_extension": ".py",
   "mimetype": "text/x-python",
   "name": "python",
   "nbconvert_exporter": "python",
   "pygments_lexer": "ipython3",
   "version": "3.12.4"
  }
 },
 "nbformat": 4,
 "nbformat_minor": 2
}
