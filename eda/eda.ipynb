{
 "cells": [
  {
   "cell_type": "code",
   "execution_count": 32,
   "metadata": {},
   "outputs": [],
   "source": [
    "# import libraries\n",
    "import pandas as pd\n",
    "import numpy as np\n",
    "import os\n",
    "import matplotlib.pyplot as plt\n",
    "import seaborn as sns\n",
    "\n",
    "# set working directory\n",
    "os.chdir('/Users/ryan-saloma/Python Projects/fantasy_football')\n",
    "\n",
    "# load data\n",
    "data = pd.read_csv('fantasy_2013.csv')\n"
   ]
  },
  {
   "cell_type": "code",
   "execution_count": null,
   "metadata": {},
   "outputs": [],
   "source": [
    "# clean Player column, remove special characters\n",
    "data['Player'] = data['Player'].str.replace(r'[^A-Za-z0-9\\s]+', '', regex=True)\n",
    "\n",
    "# set Player column as string\n",
    "data['Player'] = data['Player'].astype(str)"
   ]
  },
  {
   "cell_type": "code",
   "execution_count": null,
   "metadata": {},
   "outputs": [],
   "source": [
    "# plot Player vs. PPR points\n",
    "\n",
    "# sort data by PPR points\n",
    "sorted_data = data.sort_values('PPR', ascending=False)\n",
    "\n",
    "# extract top 100 players\n",
    "top_100 = sorted_data.head(100)\n",
    "\n",
    "# create color map for positions\n",
    "color_map = {'QB': 'red', 'RB': 'blue', 'WR': 'green', 'TE': 'purple'}\n",
    "\n",
    "# plot data, Player (categorical) by PPR points (numerical)\n",
    "# color by position, top 100 players\n",
    "plt.figure(figsize=(20, 10))\n",
    "sns.barplot(x='Player', y='PPR', data=top_100, hue='FantPos')\n",
    "plt.xticks(rotation=90)\n",
    "plt.show()\n",
    "\n",
    "# plot ppr by position using boxplot, ALL player\n",
    "plt.figure(figsize=(20, 10))\n",
    "sns.boxplot(x='FantPos', y='PPR', data=data)\n",
    "plt.show()\n",
    "\n",
    "# plot histogram of PPR points, ALL players\n",
    "plt.figure(figsize=(20, 10))\n",
    "sns.histplot(data['PPR'], kde=True)\n",
    "\n",
    "# plot histogram of PPR points by position, ALL players\n",
    "plt.figure(figsize=(20, 10))\n",
    "sns.histplot(data, x='PPR', hue='FantPos', kde=True)"
   ]
  },
  {
   "cell_type": "markdown",
   "metadata": {},
   "source": [
    "It looks like there are differences in PPR by position. The minimum points seems similar for all positions, but the maximum and average are higher for quarterbacks. The spread looks bigger for wide receivers than any other group, while the spread for tight ends is small."
   ]
  },
  {
   "cell_type": "code",
   "execution_count": null,
   "metadata": {},
   "outputs": [],
   "source": [
    "# group data by position\n",
    "# calculate average PPR points by position\n",
    "# sort by PPR points\n",
    "ppr_by_pos_all = data.groupby('FantPos')['PPR'].mean().sort_values(ascending=False)"
   ]
  }
 ],
 "metadata": {
  "kernelspec": {
   "display_name": ".venv",
   "language": "python",
   "name": "python3"
  },
  "language_info": {
   "codemirror_mode": {
    "name": "ipython",
    "version": 3
   },
   "file_extension": ".py",
   "mimetype": "text/x-python",
   "name": "python",
   "nbconvert_exporter": "python",
   "pygments_lexer": "ipython3",
   "version": "3.12.4"
  }
 },
 "nbformat": 4,
 "nbformat_minor": 2
}
