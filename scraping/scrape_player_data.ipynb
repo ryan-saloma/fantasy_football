{
 "cells": [
  {
   "cell_type": "code",
   "execution_count": null,
   "metadata": {},
   "outputs": [],
   "source": [
    "# import libraries for web scraping\n",
    "import requests\n",
    "from bs4 import BeautifulSoup\n",
    "import selenium as se\n",
    "import pandas as pd\n",
    "import numpy as np\n",
    "import time\n",
    "\n",
    "# load StatHead player ids\n",
    "stathead = pd.read_csv('scraping/stat-head_player_data.csv')\n",
    "template_url = 'https://www.pro-football-reference.com/players/'\n",
    "\n",
    "# split the player names\n",
    "stathead[['first_name', 'last_name']] = stathead['Player'].str.split(' ', n=1, expand=True)\n",
    "\n",
    "# save the player page urls\n",
    "player_urls = []\n",
    "for last_name, id in zip(stathead['last_name'], stathead['PlayerId']):\n",
    "    player_urls.append(template_url + last_name[0] + '/' + id + '.htm')\n",
    "\n",
    "# get the player pages\n",
    "# player_pages = []\n",
    "# page = requests.get(player_urls[0])\n",
    "# soup = BeautifulSoup(page.content, 'html.parser')\n",
    "\n",
    "# get the tables\n",
    "pd.Series(player_urls).to_csv('scraping/player_urls.csv', index=False)"
   ]
  }
 ],
 "metadata": {
  "language_info": {
   "name": "python"
  }
 },
 "nbformat": 4,
 "nbformat_minor": 2
}
