{
 "cells": [
  {
   "cell_type": "code",
   "execution_count": null,
   "metadata": {},
   "outputs": [],
   "source": [
    "# import libraries for web scraping\n",
    "import requests\n",
    "from bs4 import BeautifulSoup\n",
    "import selenium as se\n",
    "import pandas as pd\n",
    "import numpy as np\n",
    "import time\n",
    "\n",
    "# load StatHead player ids\n",
    "stathead = pd.read_csv('scraping/stat-head_player_data.csv')\n",
    "template_url = 'https://www.pro-football-reference.com/players/'\n",
    "\n",
    "# split the player names\n",
    "stathead[['first_name', 'last_name']] = stathead['Player'].str.split(' ', n=1, expand=True)\n",
    "\n",
    "# save the player page urls\n",
    "player_urls = []\n",
    "for last_name, id in zip(stathead['last_name'], stathead['PlayerId']):\n",
    "    player_urls.append(template_url + last_name[0] + '/' + id + '.htm')\n",
    "\n",
    "# get the tables\n",
    "pd.Series(player_urls).to_csv('scraping/player_urls.csv', index=False)"
   ]
  },
  {
   "cell_type": "markdown",
   "metadata": {},
   "source": [
    "For simplicity, we will only retrieve data on the top fantasy players from each season. Additionally, we will save on the number of read operations by limiting the data we are trying to retrieve for each player. For example, we won't try to retrieve receiving stats for quarterbacks or passing stats for running backs. \n",
    "\n",
    "Currently, we only have player IDs for players active in 2023. We need all player IDs. "
   ]
  },
  {
   "cell_type": "code",
   "execution_count": null,
   "metadata": {},
   "outputs": [],
   "source": [
    "import requests\n",
    "from bs4 import BeautifulSoup\n",
    "import selenium as se\n",
    "import pandas as pd\n",
    "import numpy as np\n",
    "import time\n",
    "\n",
    "base_url = 'https://www.pro-football-reference.com/players/'\n",
    "target_section_id = 'div_players'\n",
    "outer_element = 'p'\n",
    "inner_element = 'a'\n",
    "target_attribute = 'href'\n",
    "\n",
    "letters = 'ABCDEFGHIJKLMNOPQRSTUVWXYZ'\n",
    "letters = np.random.permutation(list(letters))\n",
    "player_info = pd.DataFrame(columns=['player_name', 'player_url'])\n",
    "\n",
    "proxies = pd.read_csv('proxies.csv')\n",
    "proxies = np.random.permutation(proxies['proxy'])\n",
    "i = 1\n",
    "\n",
    "for letter in letters:\n",
    "    url = base_url + letter\n",
    "    print(url)\n",
    "    # print(f'Attempting to use {proxies[i]}')\n",
    "    page = requests.get(url)\n",
    "    # while page.status_code != 200 and i < len(proxies):\n",
    "    #     i += 1\n",
    "    #     page = requests.get(url, proxies={\"http\": proxies[i], \"https\": proxies[i]})\n",
    "    soup = BeautifulSoup(page.content, 'html.parser')\n",
    "    target_section = soup.find(id=target_section_id)\n",
    "    outer_elements = target_section.find_all(outer_element)\n",
    "    inner_elements = [element.find(inner_element) for element in outer_elements]\n",
    "\n",
    "    # this doesn't work as desired; results in list of lists\n",
    "    player_url = [element.get(target_attribute) for element in inner_elements]\n",
    "    player_name = [element.get_text() for element in inner_elements]\n",
    "    player_info = pd.concat([pd.DataFrame([[player_name, player_url]], columns=player_info.columns), player_info], ignore_index=True)\n",
    "    wait = np.random.randint(10, 15)\n",
    "    time.sleep(wait)\n",
    "\n",
    "# convert list of lists into dataframe and save\n",
    "tmp = player_info.copy()\n",
    "names = pd.Series()\n",
    "urls = pd.Series()\n",
    "for name, url in zip(tmp['player_name'], tmp['player_url']):\n",
    "    names = pd.concat([names, pd.Series(name)], ignore_index=True)\n",
    "    urls = pd.concat([urls, pd.Series(url)], ignore_index=True)\n",
    "\n",
    "pd.DataFrame({'player_name': names, 'player_url': urls}).to_csv('player_urls_all.csv', index=False)\n"
   ]
  }
 ],
 "metadata": {
  "kernelspec": {
   "display_name": ".venv",
   "language": "python",
   "name": "python3"
  },
  "language_info": {
   "codemirror_mode": {
    "name": "ipython",
    "version": 3
   },
   "file_extension": ".py",
   "mimetype": "text/x-python",
   "name": "python",
   "nbconvert_exporter": "python",
   "pygments_lexer": "ipython3",
   "version": "3.12.4"
  }
 },
 "nbformat": 4,
 "nbformat_minor": 2
}
