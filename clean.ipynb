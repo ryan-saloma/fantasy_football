{
 "cells": [
  {
   "cell_type": "code",
   "execution_count": 39,
   "metadata": {},
   "outputs": [],
   "source": [
    "# Test out cleaning with fantasy_1970.csv\n",
    "\n",
    "# Import the necessary libraries\n",
    "import pandas as pd\n",
    "import numpy as np\n",
    "import os\n",
    "\n",
    "# Set directory to 'csv files' subfolder of current working directory\n",
    "# paste the path to the 'csv files' folder in the os.chdir() function\n",
    "# if the 'csv files' folder is not in the current working directory\n",
    "if 'csv files' not in os.getcwd():\n",
    "    os.chdir(f'{os.getcwd()}/csv files')\n",
    "\n",
    "dict_rename = {'G': 'games', 'GS': 'games_started', 'Tm': 'team', 'FantPos': 'position', \n",
    "'FantPt': 'fantasy_points', 'PPR': 'ppr_points', 'DKPt': 'draft_kings_points', \n",
    "'FDPt': 'fan_duel_points', 'VBD': 'value_based_draft', 'PosRank': 'position_rank', \n",
    "'OvRank': 'overall_rank', 'Cmp': 'passing_completions', 'Att': 'passing_attempts', 'Yds': 'passing_yards', \n",
    "'TD': 'passing_touchdowns', 'Int': 'interceptions', 'Att.1': 'rushing_attempts', 'Yds.1': 'rushing_yards', \n",
    "'Y/A': 'yards_per_attempt', 'TD.1': 'rushing_touchdowns', 'Tgt': 'targets', 'Rec': 'receptions', \n",
    "'Yds.2': 'receiving_yards', 'Y/R': 'yards_per_reception', 'TD.2': 'receiving_touchdowns', \n",
    "'Fmb': 'fumbles', 'FL': 'fumbles_lost', 'TD.3': 'total_touchdowns', '2PM': 'two_point_conversions_made', \n",
    "'2PP': 'two_point_conversion_attempts', 'Player': 'player', 'Age': 'age'}\n",
    "\n",
    "def clean_data(df):\n",
    "    # Drop rows with all NaN values\n",
    "    df = df.dropna(axis=0, how='all')\n",
    "    # Rename columns\n",
    "    df = df.rename(columns=dict_rename)\n",
    "    # Fill NaN values with 0\n",
    "    df = df.fillna(0)\n",
    "    # Convert columns\n",
    "    df = df.astype({'games': int, 'games_started': int, 'passing_completions': int, 'passing_attempts': int, \n",
    "    'passing_yards': int, 'passing_touchdowns': int, 'interceptions': int, 'rushing_attempts': int, \n",
    "    'rushing_yards': int, 'rushing_touchdowns': int, 'receptions': int, 'receiving_yards': int, \n",
    "    'receiving_touchdowns': int, 'fumbles': int, 'fumbles_lost': int, 'total_touchdowns': int, \n",
    "    'yards_per_attempt': float, 'yards_per_reception': float, \n",
    "    'team': str, 'position': str, 'player': str})\n",
    "    # Remove non-alphanumeric characters from player names\n",
    "    df['player'] = df['player'].str.replace(r'[^\\w\\s]', '', regex=True)\n",
    "    return df\n",
    "\n",
    "# For columns in directory starting with 'fantasy_', rename the columns and save the cleaned data\n",
    "for file in os.listdir():\n",
    "    if file.startswith('fantasy_'):\n",
    "        df = pd.read_csv(file)\n",
    "        cleaned_df = clean_data(df)\n",
    "        cleaned_df.to_csv(f'cleaned_{file}', index=False)\n"
   ]
  },
  {
   "cell_type": "markdown",
   "metadata": {},
   "source": [
    "Cleaning to do: remove empty rows, remove non-alphanumeric characters from player column."
   ]
  },
  {
   "cell_type": "code",
   "execution_count": null,
   "metadata": {},
   "outputs": [],
   "source": []
  }
 ],
 "metadata": {
  "kernelspec": {
   "display_name": ".venv",
   "language": "python",
   "name": "python3"
  },
  "language_info": {
   "codemirror_mode": {
    "name": "ipython",
    "version": 3
   },
   "file_extension": ".py",
   "mimetype": "text/x-python",
   "name": "python",
   "nbconvert_exporter": "python",
   "pygments_lexer": "ipython3",
   "version": "3.12.4"
  }
 },
 "nbformat": 4,
 "nbformat_minor": 2
}
