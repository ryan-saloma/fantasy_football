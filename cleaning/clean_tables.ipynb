{
 "cells": [
  {
   "cell_type": "markdown",
   "metadata": {},
   "source": [
    "## Problem Statement\n",
    "\n",
    "The tables are currently unlabeled. The goals are as follows: infer the name of the table from its contents and format them appropriately.\n",
    "\n",
    "My first attempt to solve this problem involved finding unique column names for each table. That approach does not work because columns are not necessarily unique to specific tables. Alternatively, the script could identify tables based on a unique constellation of columns. \n",
    "\n",
    "A potential problem with this approach is that there may be several versions of the same table. For example, tables with passing statistics may differ between quarterbacks if one is from the 1970s versus one from the 2020s. \n",
    "\n",
    "It seems the solution requires a combination of approaches. The first step is to identify the number of unique column combinations. "
   ]
  },
  {
   "cell_type": "code",
   "execution_count": 33,
   "metadata": {},
   "outputs": [
    {
     "name": "stdout",
     "output_type": "stream",
     "text": [
      "Unique column names saved to 'unique_columns.csv'\n"
     ]
    }
   ],
   "source": [
    "import os\n",
    "import pandas as pd\n",
    "\n",
    "# Folder containing your CSV files\n",
    "base_path = 'scraping/player_tables'\n",
    "\n",
    "# List to store the file name and column names\n",
    "column_data = []\n",
    "\n",
    "# Iterate through each file in the folder\n",
    "for folder in os.listdir(base_path):\n",
    "    for filename in os.listdir(base_path + '/' + folder):\n",
    "        if filename.endswith('.csv'):\n",
    "            file_path = os.path.join(base_path,folder, filename)\n",
    "            \n",
    "            # Load the CSV file into a DataFrame\n",
    "            df = pd.read_csv(file_path)\n",
    "            \n",
    "            # Get the column names\n",
    "            columns = df.columns.tolist()\n",
    "            \n",
    "            # Append the file name and column names as a row in the list\n",
    "            column_data.append([file_path] + columns)\n",
    "\n",
    "# Create a DataFrame with the file name and column names\n",
    "columns_df = pd.DataFrame(column_data)\n",
    "\n",
    "# Rename the first column as 'file' and the rest as 'column1', 'column2', etc.\n",
    "columns_df.columns = ['file'] + [f'column{i+1}' for i in range(len(columns_df.columns) - 1)]\n",
    "\n",
    "# Drop duplicates, ignoring the 'file' column\n",
    "unique_columns_df = columns_df.drop_duplicates(subset=columns_df.columns[1:])\n",
    "\n",
    "# Save the resulting DataFrame to a CSV file\n",
    "unique_columns_df.to_csv('unique_columns.csv', index=False)\n",
    "\n",
    "print(\"Unique column names saved to 'unique_columns.csv'\")\n"
   ]
  }
 ],
 "metadata": {
  "kernelspec": {
   "display_name": ".venv",
   "language": "python",
   "name": "python3"
  },
  "language_info": {
   "codemirror_mode": {
    "name": "ipython",
    "version": 3
   },
   "file_extension": ".py",
   "mimetype": "text/x-python",
   "name": "python",
   "nbconvert_exporter": "python",
   "pygments_lexer": "ipython3",
   "version": "3.12.4"
  }
 },
 "nbformat": 4,
 "nbformat_minor": 2
}
