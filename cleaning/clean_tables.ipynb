{
 "cells": [
  {
   "cell_type": "markdown",
   "metadata": {},
   "source": [
    "## Problem Statement\n",
    "\n",
    "The tables are currently unlabeled. The goals are as follows: infer the name of the table from its contents and format them appropriately.\n",
    "\n",
    "My first attempt to solve this problem involved finding unique column names for each table. That approach does not work because columns are not necessarily unique to specific tables. Alternatively, the script could identify tables based on a unique constellation of columns. \n",
    "\n",
    "A potential problem with this approach is that there may be several versions of the same table. For example, tables with passing statistics may differ between quarterbacks if one is from the 1970s versus one from the 2020s. \n",
    "\n",
    "It seems the solution requires a combination of approaches. The first step is to identify the number of unique column combinations. "
   ]
  },
  {
   "cell_type": "code",
   "execution_count": 24,
   "metadata": {},
   "outputs": [
    {
     "ename": "KeyboardInterrupt",
     "evalue": "",
     "output_type": "error",
     "traceback": [
      "\u001b[0;31m---------------------------------------------------------------------------\u001b[0m",
      "\u001b[0;31mKeyboardInterrupt\u001b[0m                         Traceback (most recent call last)",
      "Cell \u001b[0;32mIn[24], line 23\u001b[0m\n\u001b[1;32m     21\u001b[0m         df1 \u001b[38;5;241m=\u001b[39m pd\u001b[38;5;241m.\u001b[39mconcat([df1, pd\u001b[38;5;241m.\u001b[39mDataFrame(df\u001b[38;5;241m.\u001b[39mcolumns)\u001b[38;5;241m.\u001b[39mT], axis\u001b[38;5;241m=\u001b[39m\u001b[38;5;241m0\u001b[39m)\n\u001b[1;32m     22\u001b[0m         \u001b[38;5;66;03m# add first row to df2 as a new row\u001b[39;00m\n\u001b[0;32m---> 23\u001b[0m         df2 \u001b[38;5;241m=\u001b[39m pd\u001b[38;5;241m.\u001b[39mconcat([df2, pd\u001b[38;5;241m.\u001b[39mDataFrame(df\u001b[38;5;241m.\u001b[39miloc[\u001b[38;5;241m0\u001b[39m])\u001b[38;5;241m.\u001b[39mT], axis\u001b[38;5;241m=\u001b[39m\u001b[38;5;241m0\u001b[39m)\n\u001b[1;32m     25\u001b[0m \u001b[38;5;66;03m# count each unique row in df1\u001b[39;00m\n\u001b[1;32m     26\u001b[0m df_unique \u001b[38;5;241m=\u001b[39m df1\u001b[38;5;241m.\u001b[39mdrop_duplicates()\n",
      "\u001b[0;31mKeyboardInterrupt\u001b[0m: "
     ]
    }
   ],
   "source": [
    "# loop through each folder in player_tables\n",
    "# for each folder, open each file, add columns to df1, add first row to df2 as a new row\n",
    "# count each unique row in df1\n",
    "# extract unique rows from df2\n",
    "# write df1 to tables_header_counts.csv\n",
    "# write df2 to table_first_rows.csv\n",
    "\n",
    "import os\n",
    "import pandas as pd\n",
    "\n",
    "# create empty dataframes\n",
    "df1 = pd.DataFrame()\n",
    "df2 = pd.DataFrame()\n",
    "\n",
    "# loop through each folder in player_tables\n",
    "for folder in os.listdir('scraping/player_tables'):\n",
    "    for file in os.listdir('scraping/player_tables/' + folder):\n",
    "        # read each file in folder\n",
    "        df = pd.read_csv('scraping/player_tables/' + folder + '/' + file)\n",
    "        # add columns to df1 as a new row\n",
    "        df1 = pd.concat([df1, pd.DataFrame(df.columns).T], axis=0)\n",
    "        # add first row to df2 as a new row\n",
    "        df2 = pd.concat([df2, pd.DataFrame(df.iloc[0]).T], axis=0)\n",
    "\n",
    "# count each unique row in df1\n",
    "df_unique = df1.drop_duplicates()\n",
    "\n",
    "# extract unique rows from df2\n",
    "df2 = df2.drop_duplicates()\n",
    "\n",
    "# write df1 to tables_header_counts.csv\n",
    "df_unique.to_csv('tables_header_counts.csv', index=False)\n",
    "\n",
    "# write df2 to table_first_rows.csv\n",
    "df2.to_csv('table_first_rows.csv', index=False)"
   ]
  }
 ],
 "metadata": {
  "kernelspec": {
   "display_name": ".venv",
   "language": "python",
   "name": "python3"
  },
  "language_info": {
   "codemirror_mode": {
    "name": "ipython",
    "version": 3
   },
   "file_extension": ".py",
   "mimetype": "text/x-python",
   "name": "python",
   "nbconvert_exporter": "python",
   "pygments_lexer": "ipython3",
   "version": "3.12.4"
  }
 },
 "nbformat": 4,
 "nbformat_minor": 2
}
